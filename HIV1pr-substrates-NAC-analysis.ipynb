{
 "cells": [
  {
   "cell_type": "markdown",
   "metadata": {},
   "source": [
    "# HIV-1 Protease-substrates Near Attack Conformation Analysis\n",
    "\n",
    "Author: S. Kashif Sadiq\n",
    "\n",
    "Correspondence: kashif.sadiq@embl.de, Affiliation: 1. Heidelberg Institute for Theoretical Studies, HITS gGmbH 2. European Moelcular Biology Laboratory\n",
    "\n",
    "This notebook contains molecular dynamics (MD) simulation analyses of HIV-1 protease subtrate near attack conformations for the manuscripts:\n",
    "\n",
    "\n",
    "S.K. Sadiq‡ (2020) Catalysts, Fine-tuning of sequence-specificity by near attack conformations in enzyme-catalyzed peptide hydrolysis, 10 (6) 684\n",
    "\n",
    "Sadiq, S.K. ‡ and Coveney P.V. (2015). J Chem Theor Comput. Computing the role of near attack conformations in an enzyme-catalyzed nucleophilic bimolecular reaction. 11 (1), pp 316–324\n",
    "\n"
   ]
  },
  {
   "cell_type": "markdown",
   "metadata": {},
   "source": [
    "### Initial Module Import"
   ]
  },
  {
   "cell_type": "code",
   "execution_count": null,
   "metadata": {},
   "outputs": [],
   "source": [
    "#####################################################\n",
    "\n",
    "from nac import *\n",
    "\n",
    "import sys\n",
    "import glob\n",
    "import numpy as np\n",
    "import pandas as pd\n",
    "from scipy.optimize import curve_fit\n",
    "from scipy.integrate import odeint\n",
    "import matplotlib.pyplot as plt\n",
    "from matplotlib import gridspec\n",
    "#from lmfit import minimize, Parameters, Parameter, report_fit\n",
    "#import numdifftools\n",
    "from scipy.special import lambertw\n",
    "import math\n",
    "import os\n",
    "from distutils.version import LooseVersion\n",
    "from scipy.stats import norm\n",
    "from sklearn.neighbors import KernelDensity\n",
    "import itertools\n",
    "from scipy.signal import argrelextrema\n",
    "\n",
    "#####################################################"
   ]
  },
  {
   "cell_type": "markdown",
   "metadata": {},
   "source": [
    "### Load MD postprocessed data "
   ]
  },
  {
   "cell_type": "markdown",
   "metadata": {},
   "source": [
    "#### Protein-Substrate complex systems"
   ]
  },
  {
   "cell_type": "code",
   "execution_count": null,
   "metadata": {},
   "outputs": [],
   "source": [
    "# columns in data files are as followS:\n",
    "# NWI $NWD $ATTACK $ATTACKA \n",
    "# $H1d $H1a (D25:O2 - D25:H - p1:O)\n",
    "#$H21d $H21a $H22d $H22a (D25:O2 - D25:H - D25':O1, D25:O2 - D25:H - D25':O2)\n",
    "#$H31d $H31a $H32d $H32a (p1':N - p1':H - D25':O1, p1':N - p1':H - D25':O2)\n",
    "# $H411d $H411a $H412d $H412a (WAT:O - WAT:H1 - D25':O1, WAT:O - WAT:H2 - D25':O1)\n",
    "#$H421d $H421a $H422d $H422a (WAT:O - WAT:H1 - D25':O2, WAT:O - WAT:H2 - D25':O2)\n",
    "# $H511d $H511a $H512d $H512a (WAT:O - WAT:H1 - D25:O1, WAT:O - WAT:H2 - D25:O1)\n",
    "#$H521d $H521a $H522d $H522a (WAT:O - WAT:H1 - D25:O2, WAT:O - WAT:H2 - D25:O2)\n",
    "#In this terminology the monoprotonated aspartyl is on D25:O2\n",
    "\n",
    "#List of substrates systems\n",
    "syslist=['maca','cap2','p2nc','ncp1','p1p6','p6pr','prrt','rtrh','rhin']\n",
    "\n",
    "#Directory where each of the enzyme=bound substrate sub-directories are located\n",
    "data_dir='./data/enz/'\n",
    "\n",
    "#Data set is in format 1-x.dat, where x is the sim number. Function loads the first 100 sims into the dataset\n",
    "alldata=load_dataset_from_simlist(data_dir, syslist,100)\n",
    "print(np.shape(alldata))"
   ]
  },
  {
   "cell_type": "markdown",
   "metadata": {},
   "source": [
    "#### Apo Substrate systems"
   ]
  },
  {
   "cell_type": "code",
   "execution_count": null,
   "metadata": {},
   "outputs": [],
   "source": [
    "# columns in data files are as followS:\n",
    "# NWI $NWD $ATTACK $ATTACKA\n",
    "\n",
    "#Directory where each of the apo substrate sub-directories are located\n",
    "data_dir='./data/apo/'\n",
    "\n",
    "#Data set is in format x-w.dat, where x is the sim number, w is the sequential part of the simulation (100 parts per sim). Function loads the first 10 sims into the dataset\n",
    "apodata=load_dataset_from_range(data_dir, syslist, 10, 100)\n",
    "print(np.shape(apodata))"
   ]
  },
  {
   "cell_type": "markdown",
   "metadata": {},
   "source": [
    "### Parameter  and Constants definition"
   ]
  },
  {
   "cell_type": "code",
   "execution_count": null,
   "metadata": {},
   "outputs": [],
   "source": [
    "#Constants\n",
    "#kB = 0.001987191;\n",
    "#kBT= kB*298;\n",
    "#kBT_over_h = 6.24*(10**12) #s^-1\n",
    "\n",
    "#Define Near water, Burgi Dunitz thresholds and bootstrapping parameters\n",
    "\n",
    "#Near water binding threshold\n",
    "#nwb_cut=[4.6, 3.9, 4.6, 4.6, 4.0, 4.6, 4.2, 4.9, 4.6]\n",
    "nwb_cut=[4.6, 4.2, 4.6, 4.6, 4.6, 4.6, 4.6, 4.6, 4.6]\n",
    "nwb_cut_apo=6.0*np.ones((1,9))[0]\n",
    "\n",
    "#Burgi-Dunitz criteria\n",
    "BDdist=3.2;\n",
    "BDanglow=100;\n",
    "BDanghigh=110;\n",
    "\n",
    "kBT, kBT_over_h=kBT_func(300)\n",
    "print(kBT, kBT_over_h)"
   ]
  },
  {
   "cell_type": "markdown",
   "metadata": {},
   "source": [
    "## Nearest Water molecule distance distributions"
   ]
  },
  {
   "cell_type": "markdown",
   "metadata": {},
   "source": [
    "#### Individual systems"
   ]
  },
  {
   "cell_type": "code",
   "execution_count": null,
   "metadata": {},
   "outputs": [],
   "source": [
    "#For apo substrate data take every 10th step\n",
    "#Xdata=apodata[9:-1:10,:,:]\n",
    "#For enzyme-substrate data take all steps\n",
    "Xdata=alldata\n",
    "#Define data column\n",
    "colno=1\n",
    "#Define system\n",
    "junction_list=['MA-CA','CA-SP1','SP1-NC','NC-SP2','SP2-p6','TFR-PR','PR-RT','RT-RH','RH-IN']\n",
    "sys=0\n",
    "\n",
    "#Partition line\n",
    "#Apo\n",
    "#xpoint=nwb_cut_apo[sys]*np.ones((1,12))[0]\n",
    "#Enzyme-sub\n",
    "xpoint=nwb_cut[sys]*np.ones((1,12))[0]\n",
    "\n",
    "#Plot distribution\n",
    "fig, axes = plt.subplots(1, 1, sharex=True,sharey=True,figsize=(8,6))\n",
    "plt,log_dens = plot_distribution_single_panel(plt, axes, Xdata,junction_list,sys,colno,xpoint,xlab=r'$d_{n} (\\AA)$',ylab=r'$d_{n} (\\AA)$')\n"
   ]
  },
  {
   "cell_type": "markdown",
   "metadata": {},
   "source": [
    "#### Catalyzed Systems - Enzyme-substrate complexes"
   ]
  },
  {
   "cell_type": "code",
   "execution_count": null,
   "metadata": {},
   "outputs": [],
   "source": [
    "junction_list=['MA-CA','CA-SP1','SP1-NC','NC-SP2','SP2-p6','TFR-PR','PR-RT','RT-RH','RH-IN']\n",
    "Xdata=alldata\n",
    "xpoint=nwb_cut[sys]*np.ones((1,12))[0]\n",
    "X_plot = np.linspace(0, 10, 1000)[:, np.newaxis]\n",
    "colno=1\n",
    "\n",
    "#Plot figure\n",
    "fig, axes = plt.subplots(3, 3, sharex=True,sharey=True,figsize=(12,9))\n",
    "fig.subplots_adjust(hspace=0.00, wspace=0.00)\n",
    "for i in range(3):\n",
    "    for j in range(3):\n",
    "        sys=3*i + j        \n",
    "        # Calculate distribution and plot\n",
    "        plt,log_dens = plot_distribution_multi_panel(plt, axes, Xdata,junction_list,sys,colno,xpoint,i,j)\n",
    "        #Calculate frequency curve\n",
    "        if sys==0:\n",
    "            freq = np.exp(log_dens)[:,np.newaxis]\n",
    "        else:\n",
    "            freq=np.hstack((freq,np.exp(log_dens)[:,np.newaxis]))\n",
    "\n",
    "#Plot master labels for multi panel figure\n",
    "plt.rc('text', usetex=True)  \n",
    "axes[2,1].set_xlabel(r'$d_{n}$ (\\AA)',fontsize=30)\n",
    "axes[1,0].set_ylabel(r'$\\rho(d_{n})$',fontsize=30)\n",
    "\n",
    "#Save figure\n",
    "#fig.savefig('figures/dn_distrib.png')\n",
    "#fig.savefig('figures/dn_distrib.eps')\n",
    "\n",
    "### Maxima of density distribution\n",
    "#Peak analysis - determines all the peaks in the distribution plots\n",
    "maxima=[]\n",
    "for i in range(np.shape(freq)[1]):\n",
    "    # for local maxima\n",
    "    maxima.append(np.transpose(X_plot[argrelextrema(freq[:,i], np.greater)[0]]))\n",
    "\n",
    "#Print x value where maxima are located\n",
    "for x in maxima:\n",
    "    print(x)\n"
   ]
  },
  {
   "cell_type": "markdown",
   "metadata": {},
   "source": [
    "#### Non-Catalyzed Systems - Apo substrates"
   ]
  },
  {
   "cell_type": "code",
   "execution_count": null,
   "metadata": {},
   "outputs": [],
   "source": [
    "junction_list=['MA-CA','CA-SP1','SP1-NC','NC-SP2','SP2-p6','TFR-PR','PR-RT','RT-RH','RH-IN']\n",
    "Xdata=apodata[9:-1:10,:,:]\n",
    "xpoint=nwb_cut_apo[sys]*np.ones((1,12))[0]\n",
    "X_plot = np.linspace(0, 10, 1000)[:, np.newaxis]\n",
    "colno=1\n",
    "\n",
    "\n",
    "#Plot figure \n",
    "fig, axes = plt.subplots(3, 3, sharex=True,sharey=True,figsize=(12,9))\n",
    "fig.subplots_adjust(hspace=0.00, wspace=0.00)\n",
    "for i in range(3):\n",
    "    for j in range(3):\n",
    "        sys=3*i + j\n",
    "        \n",
    "        # Calculate distribution and plot\n",
    "        plt,log_dens = plot_distribution_multi_panel(plt, axes, Xdata,junction_list,sys,colno,xpoint,i,j)\n",
    "        #Calculate frequency curve\n",
    "        if sys==0:\n",
    "            freq2 = np.exp(log_dens)[:,np.newaxis]\n",
    "        else:\n",
    "            freq2=np.hstack((freq2,np.exp(log_dens)[:,np.newaxis]))\n",
    "\n",
    "#Plot master labels for multi panel figure\n",
    "plt.rc('text', usetex=True)  \n",
    "axes[2,1].set_xlabel(r'$d_{o}$ (\\AA)',fontsize=30)\n",
    "axes[1,0].set_ylabel(r'$\\rho(d_{o})$',fontsize=30)\n",
    "\n",
    "#Save figure\n",
    "#fig.savefig('figures/do_distrib.eps')\n",
    "\n",
    "### Maxima of density distribution\n",
    "#Peak analysis\n",
    "maxima=[]\n",
    "for i in range(np.shape(freq2)[1]):\n",
    "    # for local maxima\n",
    "    maxima.append(np.transpose(X_plot[argrelextrema(freq2[:,i], np.greater)[0]]))\n",
    "\n",
    "#Print x value where maxima are located\n",
    "for x in maxima:\n",
    "    print(x)\n",
    "\n",
    "\n",
    "# for local minima\n",
    "#argrelextrema(x, np.less)"
   ]
  },
  {
   "cell_type": "markdown",
   "metadata": {},
   "source": [
    "### Computation of NAC statistics and Thermodynamic quantities from complete data set"
   ]
  },
  {
   "cell_type": "markdown",
   "metadata": {},
   "source": [
    "This analysis computes quantities using the entire data set - without using subset samples to generate mean and standard deviations"
   ]
  },
  {
   "cell_type": "markdown",
   "metadata": {},
   "source": [
    "#### Individual Systems"
   ]
  },
  {
   "cell_type": "code",
   "execution_count": null,
   "metadata": {},
   "outputs": [],
   "source": [
    "#Total data set free energies for individual system\n",
    "\n",
    "sys=0 #MACA system\n",
    "\n",
    "#Enzyme-substrate system\n",
    "nwb_cutoff=nwb_cut[sys]\n",
    "data=alldata[:,:,sys]\n",
    "#Apo system\n",
    "#nwb_cutoff=6.0\n",
    "#data=apodata[:,:,sys]\n",
    "\n",
    "N,count_nwb, count_nac, rho_nwb, rho_nac, G_nwb, G_nac = NAC_calc(data,nwb_cutoff,BDdist,BDanglow,BDanghigh,kBT)\n",
    "\n",
    "print(N,count_nwb, count_nac, rho_nwb, rho_nac, G_nwb, G_nac)\n"
   ]
  },
  {
   "cell_type": "markdown",
   "metadata": {},
   "source": [
    "#### Catalyzed Systems - Enzyme-substrate complexes"
   ]
  },
  {
   "cell_type": "code",
   "execution_count": null,
   "metadata": {},
   "outputs": [],
   "source": [
    "#Total data set free energies for all systems\n",
    "np.set_printoptions(precision=4)\n",
    "totGnac=total_Gnac(alldata,nwb_cut,BDdist,BDanglow,BDanghigh,kBT)\n",
    "print(totGnac)\n"
   ]
  },
  {
   "cell_type": "markdown",
   "metadata": {},
   "source": [
    "#### Non-Catalyzed Systems - Apo substrates"
   ]
  },
  {
   "cell_type": "code",
   "execution_count": null,
   "metadata": {},
   "outputs": [],
   "source": [
    "#Total data set free energies for all systems\n",
    "np.set_printoptions(precision=4)\n",
    "nwb_cut_apo=6.0*np.ones((1,9))[0]\n",
    "totGnac=total_Gnac(apodata,nwb_cut_apo,BDdist,BDanglow,BDanghigh,kBT)\n",
    "print(totGnac)"
   ]
  },
  {
   "cell_type": "code",
   "execution_count": null,
   "metadata": {},
   "outputs": [],
   "source": [
    "print(np.mean(totGnac[:,-1]),np.std(totGnac[:,-1]))"
   ]
  },
  {
   "cell_type": "markdown",
   "metadata": {},
   "source": [
    "### Computation of NAC free energy as a function of partition distance between bound and unbound nearest water molecules"
   ]
  },
  {
   "cell_type": "markdown",
   "metadata": {},
   "source": [
    "#### Catalyzed Systems - Enzyme-substrate complexes"
   ]
  },
  {
   "cell_type": "code",
   "execution_count": null,
   "metadata": {},
   "outputs": [],
   "source": [
    "# NAC free energy as function of near water distance threshold\n",
    "# USing Total data set - so without error bars\n",
    "min_dn=30\n",
    "max_dn=71\n",
    "Gvary=calc_Gvary(alldata,min_dn,max_dn,BDdist,BDanglow,BDanghigh,kBT)   \n",
    "\n",
    "#Plot G_NAC as a function of partition distance\n",
    "#xlim=[2.8,5]\n",
    "#ylim=[1.5,8]\n",
    "#plot_Gvary(plt,Gvary,min_dn,max_dn,xlim,ylim,apo=False)\n",
    "#plt.savefig('figures/g_versus_dnp.eps')"
   ]
  },
  {
   "cell_type": "markdown",
   "metadata": {},
   "source": [
    "#### Non-Catalyzed Systems - Apo substrates"
   ]
  },
  {
   "cell_type": "code",
   "execution_count": null,
   "metadata": {},
   "outputs": [],
   "source": [
    "# NAC free energy as function of near water distance threshold\n",
    "# USing Total data set - so without error bars\n",
    "min_dn=30\n",
    "max_dn=71\n",
    "Gvary_apo=calc_Gvary(apodata,min_dn,max_dn,BDdist,BDanglow,BDanghigh,kBT)   \n",
    "\n",
    "#Plot G_NAC as a function of partition distance\n",
    "#xlim=[2.8,7]\n",
    "#ylim=[1.5,5]\n",
    "#plot_Gvary(plt,Gvary_apo,min_dn,max_dn,xlim,ylim,apo=True)\n",
    "#plt.savefig('figures/g_versus_dnp_apo.eps')\n"
   ]
  },
  {
   "cell_type": "markdown",
   "metadata": {},
   "source": [
    "### Plot both complex and apo systems"
   ]
  },
  {
   "cell_type": "code",
   "execution_count": null,
   "metadata": {},
   "outputs": [],
   "source": [
    "junction_list=['MA-CA','CA-SP1','SP1-NC','NC-SP2','SP2-p6','TFR-PR','PR-RT','RT-RH','RH-IN']\n",
    "min_dn=30\n",
    "max_dn=71\n",
    "dn=[x/10 for x in range(min_dn,max_dn)]\n",
    "color_list=['k','r','b','g','m','y','c','k','r']\n",
    "marker_list=['o','o','o','o','o','s','s','s','s']\n",
    "\n",
    "fig = plt.figure(figsize=(18, 6)) \n",
    "fig.subplots_adjust(hspace=0.05, wspace=0.3)\n",
    "gs = gridspec.GridSpec(1, 2, width_ratios=[1, 1])\n",
    "gs.update(left=0.1,right=0.9,top=0.95,bottom=0.2,wspace=0.3,hspace=0.05)\n",
    "ax0 = plt.subplot(gs[0])\n",
    "ax1 = plt.subplot(gs[1])\n",
    "\n",
    "\n",
    "#Figure A\n",
    "xlim=[2.8,5]\n",
    "ylim=[1.5,8]\n",
    "G=Gvary[:,0:-1:2]\n",
    "for i in range(np.shape(G)[0]):\n",
    "    m = G[i,:]\n",
    "    if i<5:\n",
    "        ax0.plot(dn[0:-1:2], m, ls='-', label=junction_list[i], color=color_list[i],marker=marker_list[i], ms=10, mec=color_list[i], mfc=color_list[i])\n",
    "    else:\n",
    "        ax0.plot(dn[0:-1:2], m, ls='-', color=color_list[i],marker=marker_list[i], ms=10, mec=color_list[i], mfc=color_list[i])\n",
    "\n",
    "\n",
    "plt.rc('text', usetex=True)        \n",
    "ax0.legend(loc='best',fontsize = 20)\n",
    "ax0.set_xlabel(r'$d^{p}_{n}$ (\\AA)',fontsize=30)\n",
    "ax0.set_ylabel(r'$\\Delta G^{\\ddagger c}_{N}$ (kcal/mol)',fontsize=30)\n",
    "ax0.set_xticks([x/10 for x in range(30,70,5)])    \n",
    "ax0.set_yticks([y/10 for y in range(15,70,10)])\n",
    "ax0.tick_params(axis='x', labelsize=30)\n",
    "ax0.tick_params(axis='y', labelsize=30)\n",
    "ax0.set_xlim(xlim[0],xlim[1])\n",
    "ax0.set_ylim(ylim[0],ylim[1])\n",
    "ax0.text(3.0, 7.0, '(A)', fontsize=30)\n",
    "\n",
    "#Figure B\n",
    "xlim=[2.8,7]\n",
    "ylim=[1.5,5]\n",
    "\n",
    "G=Gvary_apo[:,0:-1:2]\n",
    "for i in range(np.shape(G)[0]):\n",
    "    m = G[i,:]\n",
    "    if i>=5:\n",
    "        ax1.plot(dn[0:-1:2], m, ls='-', label=junction_list[i], color=color_list[i],marker=marker_list[i], ms=10, mec=color_list[i], mfc=color_list[i])\n",
    "    else:\n",
    "        ax1.plot(dn[0:-1:2], m, ls='-', color=color_list[i],marker=marker_list[i], ms=10, mec=color_list[i], mfc=color_list[i])\n",
    "\n",
    "\n",
    "ax1.legend(loc='best',fontsize = 20)\n",
    "ax1.set_xlabel(r'$d^{p}_{o}$ (\\AA)',fontsize=30)\n",
    "ax1.set_ylabel(r'$\\Delta G^{\\ddagger u}_{N}$ (kcal/mol)',fontsize=30)\n",
    "ax1.set_xticks([x/10 for x in range(30,70,5)])    \n",
    "ax1.set_yticks([y/10 for y in range(15,70,10)])\n",
    "ax1.tick_params(axis='x', labelsize=30)\n",
    "ax1.tick_params(axis='y', labelsize=30)\n",
    "ax1.set_xlim(xlim[0],xlim[1])\n",
    "ax1.set_ylim(ylim[0],ylim[1])\n",
    "ax1.text(3.0, 4.5, '(B)', fontsize=30)\n",
    "\n",
    "#gs.update(left=0.1,right=0.9,top=0.965,bottom=0.03,wspace=0.3,hspace=0.09)\n",
    "\n",
    "\n",
    "#fig.savefig('figures/g_versus_dnp_dno.eps')\n",
    "\n",
    "#fig.savefig('figures/g_versus_dnp_dno_new.eps')"
   ]
  },
  {
   "cell_type": "markdown",
   "metadata": {},
   "source": [
    "## Computation of NAC statistics and Thermodynamic quantities from data subset averaging"
   ]
  },
  {
   "cell_type": "markdown",
   "metadata": {},
   "source": [
    "This analysis computes quantities using subset samples to generate mean and standard deviations"
   ]
  },
  {
   "cell_type": "markdown",
   "metadata": {},
   "source": [
    "### Catalyzed Systems - Enzyme-substrate complexes"
   ]
  },
  {
   "cell_type": "markdown",
   "metadata": {},
   "source": [
    "#### Individual system NWB and NAC free energy using averages of data subsets"
   ]
  },
  {
   "cell_type": "code",
   "execution_count": null,
   "metadata": {},
   "outputs": [],
   "source": [
    "#Divide data into subsets\n",
    "numsets=2\n",
    "datasize=np.shape(alldata)[0]\n",
    "range_list = subsets(numsets,datasize)\n",
    "#range_list = bootstrapping(numsets,datasize)\n",
    "\n",
    "sys=6\n",
    "mat=[]\n",
    "data = alldata[:,:,sys]\n",
    "for i in range(numsets):\n",
    "    N,count_nwb, count_nac, rho_nwb, rho_nac, G_nwb, G_nac = NAC_calc(data[range_list[i]],nwb_cut[sys],BDdist,BDanglow,BDanghigh,kBT)\n",
    "    mat.append([count_nwb, count_nac, rho_nwb, rho_nac, G_nwb, G_nac])\n",
    "\n",
    "mat=np.array(mat)\n",
    "\n",
    "#This is calculated using numsets=2 for system6 because of low count number\n",
    "G_m6=np.mean(mat, axis=0)\n",
    "G_s6=np.std(mat, axis=0)\n",
    "\n",
    "#print(G_m6)\n",
    "#print(G_s6)"
   ]
  },
  {
   "cell_type": "markdown",
   "metadata": {},
   "source": [
    "#### All systems NWB and NAC free energies using averages of data subsets"
   ]
  },
  {
   "cell_type": "code",
   "execution_count": null,
   "metadata": {},
   "outputs": [],
   "source": [
    "numsets=5\n",
    "datasize=np.shape(alldata)[0]\n",
    "range_list = subsets(numsets,datasize)\n",
    "#All systems NWB and NAC free energies using averages of data subsets\n",
    "for j in range(np.shape(alldata)[2]):   \n",
    "    mat=[]\n",
    "    data = alldata[:,:,j]\n",
    "    for i in range(numsets):\n",
    "        N,count_nwb, count_nac, rho_nwb, rho_nac, G_nwb, G_nac = NAC_calc(data[range_list[i]],nwb_cut[j],BDdist,BDanglow,BDanghigh,kBT)\n",
    "        mat.append([count_nwb, count_nac, rho_nwb, rho_nac, G_nwb, G_nac])    \n",
    "\n",
    "    mat=np.array(mat)\n",
    "\n",
    "    if j == 0:\n",
    "        G_all = mat\n",
    "    else:\n",
    "        G_all=np.dstack((G_all,mat))\n",
    "\n",
    "G_all_mean=np.transpose(np.mean(G_all,axis=0))\n",
    "G_all_std=np.transpose(np.std(G_all,axis=0))        \n",
    "\n",
    "#Replace results of system 6 with averaging from just 2 subsets\n",
    "G_all_mean[6,-1]=G_m6[-1]\n",
    "G_all_std[6,-1]=G_s6[-1]\n",
    "\n",
    "print(G_all_mean)\n",
    "print(G_all_std)\n",
    "\n"
   ]
  },
  {
   "cell_type": "markdown",
   "metadata": {},
   "source": [
    "#### NAC Free energy as a function of partition distance - with shaded error region"
   ]
  },
  {
   "cell_type": "code",
   "execution_count": null,
   "metadata": {},
   "outputs": [],
   "source": [
    "# NAC free energy as function of near water distance threshold - using data subsets so with mean and std\n",
    "#min_dn=30\n",
    "#max_dn=71\n",
    "#Gvary_errs=calc_Gvary_witherrors(alldata,range_list,numsets,min_dn,max_dn,BDdist,BDanglow,BDanghigh,kBT)\n",
    "\n",
    "#xlim=[2.8,5]\n",
    "#ylim=[1.5,8]\n",
    "#plot_Gvary_witherrors(plt,Gvary_errs,min_dn,max_dn,xlim,ylim)"
   ]
  },
  {
   "cell_type": "markdown",
   "metadata": {},
   "source": [
    "### Non-Catalyzed Systems - Apo substrates"
   ]
  },
  {
   "cell_type": "markdown",
   "metadata": {},
   "source": [
    "#### Individual system NWB and NAC free energy using averages of data subsets"
   ]
  },
  {
   "cell_type": "code",
   "execution_count": null,
   "metadata": {},
   "outputs": [],
   "source": [
    "numsets=5\n",
    "datasize=np.shape(apodata)[0]\n",
    "range_list = subsets(numsets,datasize)\n",
    "#range_list = bootstrapping(numsets,datasize)\n",
    "\n",
    "\n",
    "sys=6\n",
    "mat=[]\n",
    "data = apodata[:,:,sys]\n",
    "\n",
    "for i in range(numsets):\n",
    "    N,count_nwb, count_nac, rho_nwb, rho_nac, G_nwb, G_nac = NAC_calc(data[range_list[i]],nwb_cut_apo[sys],BDdist,BDanglow,BDanghigh,kBT)\n",
    "    mat.append([count_nwb, count_nac, rho_nwb, rho_nac, G_nwb, G_nac])\n",
    "\n",
    "mat=np.array(mat)\n",
    "print(mat)\n",
    "print(np.mean(mat, axis=0))\n",
    "print(np.std(mat, axis=0))"
   ]
  },
  {
   "cell_type": "markdown",
   "metadata": {},
   "source": [
    "#### All systems NWB and NAC free energies using averages of data subsets"
   ]
  },
  {
   "cell_type": "code",
   "execution_count": null,
   "metadata": {},
   "outputs": [],
   "source": [
    "for j in range(np.shape(apodata)[2]):   \n",
    "    mat=[]\n",
    "    data = apodata[:,:,j]\n",
    "    for i in range(numsets):\n",
    "        N,count_nwb, count_nac, rho_nwb, rho_nac, G_nwb, G_nac = NAC_calc(data[range_list[i]],nwb_cut_apo[j],BDdist,BDanglow,BDanghigh,kBT)\n",
    "        mat.append([count_nwb, count_nac, rho_nwb, rho_nac, G_nwb, G_nac])    \n",
    "\n",
    "    mat=np.array(mat)\n",
    "\n",
    "    if j == 0:\n",
    "        G_all = mat\n",
    "    else:\n",
    "        G_all=np.dstack((G_all,mat))\n",
    "\n",
    "G_all_mean_apo=np.transpose(np.mean(G_all,axis=0))\n",
    "G_all_std_apo=np.transpose(np.std(G_all,axis=0))        \n",
    "print(G_all_mean_apo)\n",
    "print(G_all_std_apo)"
   ]
  },
  {
   "cell_type": "markdown",
   "metadata": {},
   "source": [
    "#### NAC Free energy as a function of partition distance - with shaded error region"
   ]
  },
  {
   "cell_type": "code",
   "execution_count": null,
   "metadata": {},
   "outputs": [],
   "source": [
    "# NAC free energy as function of near water distance threshold - using data subsets so with mean and std\n",
    "#min_dn=30\n",
    "#max_dn=71\n",
    "#Gvary_errs_apo=calc_Gvary_witherrors(apodata,range_list,numsets,min_dn,max_dn,BDdist,BDanglow,BDanghigh)\n",
    "\n",
    "#xlim=[2.8,7]\n",
    "#ylim=[1.5,7]\n",
    "#plot_Gvary_witherrors(plt,Gvary_errs_apo,min_dn,max_dn,xlim,ylim, apo=True)"
   ]
  },
  {
   "cell_type": "markdown",
   "metadata": {},
   "source": [
    "### Comparison of G_NAC for Catalyzed Enzyme-substrate systems with experimental data set"
   ]
  },
  {
   "cell_type": "code",
   "execution_count": null,
   "metadata": {},
   "outputs": [],
   "source": [
    "#Comparison of experimental values with GNAC\n",
    "\n",
    "junction_list=['MA-CA','CA-SP1','SP1-NC','NC-SP2','SP2-p6','TFR-PR','PR-RT','RT-RH','RH-IN']\n",
    "\n",
    "#Using data in Maschera et al\n",
    "#Then using ratio of NC-SP2/CA-SP1 in Feher and Toszer parameters to calculate NC-SP2 equivalent in Maschera conditions\n",
    "kcat=[[23, 2], [2.6, 0.1], [41, 6], [5*2.6/3, 0.1], [0.25, 0.1], [43, 4], [20, 3], [1.8, 0.1], [5.1, 0.1]] #s^-1\n",
    "kcat=np.array(kcat)         \n",
    "Gcat=kBT*np.log(kBT_over_h/kcat[:,0])\n",
    "comp=G_all_mean[:,-1]\n",
    "comp_err=G_all_std[:,-1]\n",
    "\n",
    "\n",
    "y_fit, popt, r2 = linear_fit(Gcat, comp)\n",
    "\n",
    "\n",
    "print(Gcat)\n",
    "print(comp)\n",
    "print(comp_err)\n",
    "print(Gcat-comp)\n",
    "print(popt,r2)\n",
    "\n",
    "print(30-Gcat)"
   ]
  },
  {
   "cell_type": "markdown",
   "metadata": {},
   "source": [
    "### Plot of G_NAC vs experimental G_cat"
   ]
  },
  {
   "cell_type": "code",
   "execution_count": null,
   "metadata": {},
   "outputs": [],
   "source": [
    "xlim=[14,19]\n",
    "ylim=[0,6]\n",
    "#ylim=[-4,2]\n",
    "\n",
    "plt.figure(figsize=(12,6))\n",
    "plt.rc('text', usetex=True)\n",
    "#plt.plot(Gcat,comp,ls='',marker='o',ms=14, mec='k',mfc='r')\n",
    "plt.errorbar(Gcat,comp,comp_err,ls='',color='k',marker='o',ms=14, mec='k',mfc='#b2182b')\n",
    "\n",
    "plt.plot(Gcat, y_fit, '-k')\n",
    "\n",
    "plt.text(18, 1, '$R^{2}$ =' +  \"{:.2f}\".format(r2), fontsize=30,color='k')\n",
    "\n",
    "delx=[-0.2,-0.2,-0.2,-0.3,-0.2,-0.2,-0.1,0.1,-0.2]\n",
    "dely=[0.2,0.2,0.2,0.3,0.2,-0.4,0.55,0,-0.4]\n",
    "for i in range(len(Gcat)):\n",
    "    plt.text(Gcat[i]+delx[i], comp[i]+dely[i], str(junction_list[i]),fontsize=15,color='k')\n",
    "\n",
    "    \n",
    "#plt.legend(loc='best',fontsize = 20)\n",
    "plt.xlabel(r'$\\Delta G^{\\ddagger c}$ (kcal/mol)',fontsize=30)\n",
    "plt.ylabel(r'$\\Delta G^{\\ddagger c}_{N}$ (kcal/mol)',fontsize=30)\n",
    "plt.xticks([x/10 for x in range(140,190,10)], fontsize=30)    \n",
    "plt.yticks([y/10 for y in range(0,60,10)], fontsize=30)\n",
    "#plt.yticks([y/10 for y in range(-40,20,10)], fontsize=30)\n",
    "plt.xlim(xlim[0],xlim[1])\n",
    "plt.ylim(ylim[0],ylim[1])\n",
    "\n",
    "#plt.savefig('figures/nac_exp_correlation.eps')"
   ]
  },
  {
   "cell_type": "markdown",
   "metadata": {},
   "source": [
    "#### Correlation of G_NWB with experimental G_cat"
   ]
  },
  {
   "cell_type": "code",
   "execution_count": null,
   "metadata": {},
   "outputs": [],
   "source": [
    "NWB=G_all_mean[:,-2]\n",
    "NAC=G_all_mean[:,-1]\n",
    "nNAC=Gcat-G_all_mean[:,-1]\n",
    "\n",
    "y_fit, popt, r2 = linear_fit(NWB, Gcat)\n",
    "print(r2)"
   ]
  },
  {
   "cell_type": "markdown",
   "metadata": {},
   "source": [
    "### Energy Band Analysis"
   ]
  },
  {
   "cell_type": "code",
   "execution_count": null,
   "metadata": {},
   "outputs": [],
   "source": [
    "#Non nac contributions\n",
    "Gelec=Gcat-comp\n",
    "#Max and min barriers from kcat values in literature - from Table in Reaction kinetics paper\n",
    "Gcat_max=kBT*np.log(kBT_over_h/0.09)+kBT\n",
    "Gcat_min=kBT*np.log(kBT_over_h/114)-kBT\n",
    "\n",
    "xlim=[-1,13]\n",
    "ylim=[0,19]\n",
    "junction_list=['MA-CA','CA-SP1','SP1-NC','NC-SP2','SP2-p6','TFR-PR','PR-RT','RT-RH','RH-IN']\n",
    "index = 1.2*np.arange(len(junction_list)) + 0.3\n",
    "bar_width = 0.8\n",
    "# Initialize the vertical-offset for the stacked bar chart.\n",
    "y_offset = np.zeros(len(junction_list))\n",
    "\n",
    "xline_x=[x for x in range(xlim[0],xlim[1]+1)]\n",
    "xline_y=np.ones((1,xlim[1]-xlim[0]+1))[0]\n",
    "band_vals = [ np.mean(np.sort(Gelec)[0:2]), np.mean(np.sort(Gelec)[2:8]), np.sort(Gelec)[8] ]\n",
    "\n",
    "band=[]\n",
    "for i in range(len(band_vals)):\n",
    "    band.append(band_vals[i]*xline_y)\n",
    "error_band=kBT*xline_y\n",
    "\n",
    "#fig, ax = plt.subplots()\n",
    "plt.figure(figsize=(15,9))\n",
    "plt.rc('text', usetex=True)\n",
    "\n",
    "#kcat physiological region \n",
    "plt.fill_between(xline_x, Gcat_min*xline_y, Gcat_max*xline_y, color='#fee090',alpha=0.3,zorder=0)\n",
    "\n",
    "#Discreted bands reached by non-nac contributions\n",
    "for i in range(len(band)):\n",
    "    plt.plot(xline_x, band[i], ls='-',color='k',lw='4',zorder=5)\n",
    "    if i==0:\n",
    "        plt.fill_between(xline_x, band[i]-error_band, band[i]+error_band, color='#d1e5f0',alpha=0.6,zorder=5)\n",
    "    elif i==1:\n",
    "        plt.fill_between(xline_x, band[i]-error_band, band[i]+error_band, color='#67a9cf',alpha=0.6,zorder=5)\n",
    "    else:\n",
    "        plt.fill_between(xline_x, band[i]-error_band, band[i]+error_band, color='#2166ac',alpha=0.6,zorder=5)\n",
    "        \n",
    "#Order of bars\n",
    "order=np.argsort(Gelec)\n",
    "\n",
    "\n",
    "#Stacked bar chart of nac and non-nac contributions    \n",
    "plt.bar(index[0:2], Gelec[order[0:2]], bar_width, bottom=y_offset[0:2], color='#d1e5f0',zorder=10)\n",
    "plt.bar(index[2:8], Gelec[order[2:8]], bar_width, bottom=y_offset[2:8], color='#67a9cf',zorder=10)\n",
    "plt.bar(index[8], Gelec[order[8]], bar_width, bottom=y_offset[8], color='#2166ac',zorder=10)\n",
    "\n",
    "y_offset = y_offset + Gelec[order]\n",
    "plt.bar(index, comp[order], bar_width, bottom=y_offset, color='#b2182b',zorder=10)\n",
    "\n",
    "\n",
    "#plt.xlabel(r'$d_{n} (\\AA)$',fontsize=30)\n",
    "plt.ylabel(r'$\\Delta G^{\\ddagger}_{cat} (kcat/mol)$',fontsize=30)\n",
    "plt.xticks(index, [junction_list[x] for x in order], fontsize=20)  \n",
    "plt.yticks([y for y in range(0,22,2)], fontsize=30)\n",
    "plt.xlim(xlim[0],xlim[1])\n",
    "plt.ylim(ylim[0],ylim[1])\n",
    "\n",
    "\n",
    "plt.text(11, 16, \"{:.1f}\".format(band_vals[2]), fontsize=25)\n",
    "plt.text(11, 13.5, \"{:.1f}\".format(band_vals[1]), fontsize=25)\n",
    "plt.text(11, 11.5, \"{:.1f}\".format(band_vals[0]), fontsize=25)\n",
    "\n",
    "plt.text(11, 7, '$\\Delta G^{\\ddagger}_{NAC}$', fontsize=25,color='#b2182b')\n",
    "plt.text(11, 3, '$\\Delta G^{\\ddagger}_{nonNAC}$', fontsize=25,color='b')\n",
    "\n",
    "#d1e5f0\n",
    "#67a9cf\n",
    "#2166ac\n",
    "\n",
    "plt.show()\n",
    "\n",
    "#plt.savefig('figures/energy_bands.eps')\n",
    "\n",
    "print(Gcat)\n",
    "print(Gcat_min, Gcat_max)\n",
    "print(comp)\n",
    "print(Gelec)\n",
    "print(band_vals)\n",
    "\n",
    "#print(np.sort(Gelec))\n",
    "#print(np.mean(np.sort(Gelec)[0:2]),np.std(np.sort(Gelec)[0:2]))\n",
    "#print(np.mean(nsp.sort(Gelec)[2:8]),np.std(np.sort(Gelec)[2:8]))\n",
    "#print(np.sort(Gelec)[8])\n",
    "\n"
   ]
  },
  {
   "cell_type": "markdown",
   "metadata": {},
   "source": [
    "### Combined Plot of Correlation and Energy bands"
   ]
  },
  {
   "cell_type": "code",
   "execution_count": null,
   "metadata": {},
   "outputs": [],
   "source": [
    "\n",
    "junction_list=['MA-CA','CA-SP1','SP1-NC','NC-SP2','SP2-p6','TFR-PR','PR-RT','RT-RH','RH-IN']\n",
    "\n",
    "#fig, axes = plt.subplots(1, 2, sharex=False,sharey=False,figsize=(17,5))\n",
    "\n",
    "fig = plt.figure(figsize=(17, 5)) \n",
    "fig.subplots_adjust(hspace=0.05, wspace=0.3)\n",
    "gs = gridspec.GridSpec(1, 2, width_ratios=[1, 1.5])\n",
    "gs.update(left=0.1,right=0.9,top=0.98,bottom=0.25,wspace=0.3,hspace=0.05)\n",
    "ax0 = plt.subplot(gs[0])\n",
    "ax1 = plt.subplot(gs[1])\n",
    "\n",
    "\n",
    "#Figure A\n",
    "#Using data in Maschera et al\n",
    "#Then using ratio of NC-SP2/CA-SP1 in Feher and Toszer parameters to calculate NC-SP2 equivalent in Maschera conditions\n",
    "kcat=[[23, 2], [2.6, 0.1], [41, 6], [5*2.6/3, 0.1], [0.25, 0.1], [43, 4], [20, 3], [1.8, 0.1], [5.1, 0.1]] #s^-1\n",
    "kcat=np.array(kcat)         \n",
    "Gcat=kBT*np.log(kBT_over_h/kcat[:,0])\n",
    "comp=G_all_mean[:,-1]\n",
    "comp_err=G_all_std[:,-1]\n",
    "\n",
    "print(Gcat)\n",
    "print(comp)\n",
    "print(comp_err)\n",
    "\n",
    "def func(x, a, b):\n",
    "\n",
    "    return a *x + b\n",
    "\n",
    "popt, pcov = curve_fit(func, Gcat, comp)\n",
    "y_fit=func(Gcat, *popt)\n",
    "\n",
    "# residual sum of squares\n",
    "ss_res = np.sum((comp - y_fit) ** 2)\n",
    "# regression sum of squares\n",
    "ss_reg = np.sum((y_fit - np.mean(comp)) ** 2) \n",
    "# total sum of squares\n",
    "ss_tot = np.sum((comp - np.mean(comp)) ** 2)\n",
    "# r-squared\n",
    "#r2 = 1 - (ss_res / ss_tot)\n",
    "r2 = (ss_reg / ss_tot)\n",
    "\n",
    "#print(popt,r2)\n",
    "\n",
    "\n",
    "\n",
    "xlim=[14,19]\n",
    "ylim=[0,6]\n",
    "#axes[0].rc('text', usetex=True)\n",
    "ax0.text(14.2, 5.4, '(A)', fontsize=30,color='k')\n",
    "ax0.errorbar(Gcat,comp,comp_err,ls='',color='k',marker='o',ms=14, mec='k',mfc='#b2182b')\n",
    "ax0.plot(Gcat, y_fit, '-k')\n",
    "ax0.text(17, 1, '$R^{2}$ =' +  \"{:.2f}\".format(r2), fontsize=30,color='k')\n",
    "delx=[-0.2,-0.2,-0.6,-0.6,-0.2,-0.2,-0.1,0.2,-0.2]\n",
    "dely=[0.3,0.7,0.2,0.3,-0.6,-0.6,0.55,0.3,-0.5]\n",
    "rot=[0,30,0,0,0,0,0,30,0]\n",
    "for i in range(len(Gcat)):\n",
    "    ax0.text(Gcat[i]+delx[i], comp[i]+dely[i], str(junction_list[i]),fontsize=15,color='k',rotation=rot[i])\n",
    "\n",
    "ax0.set_xlabel(r'$\\Delta G^{\\ddagger c}$ (kcal/mol)',fontsize=30)\n",
    "ax0.set_ylabel(r'$\\Delta G^{\\ddagger c}_{N}$ (kcal/mol)',fontsize=30)\n",
    "ax0.set_xticks([x/10 for x in range(140,190,10)])\n",
    "ax0.tick_params(axis='x', labelsize=30)\n",
    "ax0.set_yticks([y/10 for y in range(0,60,10)])\n",
    "ax0.tick_params(axis='y', labelsize=30)\n",
    "ax0.set_xlim(xlim[0],xlim[1])\n",
    "ax0.set_ylim(ylim[0],ylim[1])\n",
    "\n",
    "#Figure B\n",
    "\n",
    "#Non nac contributions\n",
    "Gelec=Gcat-comp\n",
    "#Max and min barriers from kcat values in literature - from Table in Reaction kinetics paper\n",
    "Gcat_max=kBT*np.log(kBT_over_h/0.09)+kBT\n",
    "Gcat_min=kBT*np.log(kBT_over_h/114)-kBT\n",
    "\n",
    "xlim=[-1,13]\n",
    "ylim=[0,19]\n",
    "index = 1.2*np.arange(len(junction_list)) + 0.3\n",
    "bar_width = 0.8\n",
    "# Initialize the vertical-offset for the stacked bar chart.\n",
    "y_offset = np.zeros(len(junction_list))\n",
    "\n",
    "xline_x=[x for x in range(xlim[0],xlim[1]+1)]\n",
    "xline_y=np.ones((1,xlim[1]-xlim[0]+1))[0]\n",
    "band_vals = [ np.mean(np.sort(Gelec)[0:2]), np.mean(np.sort(Gelec)[2:8]), np.sort(Gelec)[8] ]\n",
    "\n",
    "band=[]\n",
    "for i in range(len(band_vals)):\n",
    "    band.append(band_vals[i]*xline_y)\n",
    "error_band=kBT*xline_y\n",
    "\n",
    "#kcat physiological region \n",
    "ax1.fill_between(xline_x, Gcat_min*xline_y, Gcat_max*xline_y, color='#fee090',alpha=0.3,zorder=0)\n",
    "\n",
    "#Discreted bands reached by non-nac contributions\n",
    "for i in range(len(band)):\n",
    "    ax1.plot(xline_x, band[i], ls='-',color='k',lw='4',zorder=5)\n",
    "    if i==0:\n",
    "        ax1.fill_between(xline_x, band[i]-error_band, band[i]+error_band, color='#d1e5f0',alpha=0.6,zorder=5)\n",
    "    elif i==1:\n",
    "        ax1.fill_between(xline_x, band[i]-error_band, band[i]+error_band, color='#67a9cf',alpha=0.6,zorder=5)\n",
    "    else:\n",
    "        ax1.fill_between(xline_x, band[i]-error_band, band[i]+error_band, color='#2166ac',alpha=0.6,zorder=5)\n",
    "        \n",
    "#Order of bars\n",
    "order=np.argsort(Gelec)\n",
    "\n",
    "#Stacked bar chart of nac and non-nac contributions    \n",
    "ax1.bar(index[0:2], Gelec[order[0:2]], bar_width, bottom=y_offset[0:2], color='#d1e5f0',zorder=10)\n",
    "ax1.bar(index[2:8], Gelec[order[2:8]], bar_width, bottom=y_offset[2:8], color='#67a9cf',zorder=10)\n",
    "ax1.bar(index[8], Gelec[order[8]], bar_width, bottom=y_offset[8], color='#2166ac',zorder=10)\n",
    "\n",
    "y_offset = y_offset + Gelec[order]\n",
    "ax1.bar(index, comp[order], bar_width, bottom=y_offset, color='#b2182b',zorder=10)\n",
    "\n",
    "\n",
    "#plt.xlabel(r'$d_{n} (\\AA)$',fontsize=30)\n",
    "ax1.set_ylabel(r'$\\Delta G^{\\ddagger c}$ (kcal/mol)',fontsize=30)\n",
    "ax1.set_xticks(index)\n",
    "ax1.set_xticklabels([junction_list[x] for x in order], rotation=90)\n",
    "ax1.set_yticks([y for y in range(0,22,2)])\n",
    "ax1.tick_params(axis='x', labelsize=20)\n",
    "ax1.tick_params(axis='y', labelsize=30)\n",
    "\n",
    "ax1.set_xlim(xlim[0],xlim[1])\n",
    "ax1.set_ylim(ylim[0],ylim[1])\n",
    "\n",
    "\n",
    "ax1.text(11, 16, \"{:.1f}\".format(band_vals[2]), fontsize=20)\n",
    "ax1.text(11, 13.5, \"{:.1f}\".format(band_vals[1]), fontsize=20)\n",
    "ax1.text(11, 11.5, \"{:.1f}\".format(band_vals[0]), fontsize=20)\n",
    "\n",
    "ax1.text(10.5, 7, '$\\Delta G^{\\ddagger c}_{N}$', fontsize=20,color='#b2182b')\n",
    "ax1.text(10.5, 3, '$\\Delta G^{\\ddagger c}_{nN}$', fontsize=20,color='b')\n",
    "\n",
    "ax1.text(-0.3, 17, '(B)', fontsize=30, color='k')\n",
    "\n",
    "\n",
    "#fig.savefig('figures/correl_and_energy_bands.eps')\n",
    "\n",
    "#fig.savefig('figures/correl_and_energy_bands_new.eps')\n",
    "\n",
    "#fig.savefig('figures/correl_and_energy_bands.png')\n",
    " \n",
    "\n",
    "\n",
    "#fig.show()"
   ]
  },
  {
   "cell_type": "markdown",
   "metadata": {},
   "source": [
    "### Hydrogen bond analysis"
   ]
  },
  {
   "cell_type": "code",
   "execution_count": null,
   "metadata": {},
   "outputs": [],
   "source": [
    "#Burgi-Dunitz criteria\n",
    "BDdist=3.2;\n",
    "BDanglow=100;\n",
    "BDanghigh=110;\n",
    "\n",
    "#Hydrogen bond criteria\n",
    "hb_dist=3.5\n",
    "hb_ang=150\n",
    "\n",
    "\n",
    "foffset=0.00000001\n",
    "\n",
    "for i in range(np.shape(alldata)[2]):\n",
    "    data = alldata[:,:,i]\n",
    "\n",
    "    #Truth array of nac and nwb\n",
    "    nwb,nac=confs(data,BDdist,BDanglow,BDanghigh,nwb_cut,sys)\n",
    "    not_nwb=np.logical_not(nwb)\n",
    "    not_nac=np.logical_not(nac)\n",
    "    nac_nwb=np.logical_and(nwb,nac)\n",
    "    not_nac_nwb=np.logical_and(nwb,not_nac)\n",
    "\n",
    "#print(np.sum(nac), np.sum(not_nac))\n",
    "#print(np.sum(nwb),np.sum(not_nwb))\n",
    "\n",
    "    #Truth arrays of all hydrogen bonds\n",
    "    hb1,hb2,hb3,hb4,hb5,hb6,stat=hbond_analysis(data,hb_dist,hb_ang)\n",
    "    hb=[hb1, hb2, hb3, hb4]\n",
    "    #List of truth arrays of all chosen hbond combinations - termed hbond states\n",
    "    hbs,lst=hb_states(hb)\n",
    "\n",
    "    #Filtereing hbond states by nac,nwb combinations\n",
    "    hbs_nac_nwb=[np.logical_and(x,nac_nwb) for x in hbs]\n",
    "    hbs_not_nac_nwb=[np.logical_and(x,not_nac_nwb) for x in hbs]\n",
    "    hbs_not_nwb=[np.logical_and(x,not_nwb) for x in hbs]\n",
    "    \n",
    "    hbs_nac=[np.logical_and(x,nac) for x in hbs]\n",
    "\n",
    "    \n",
    "    \n",
    "#print(lst)\n",
    "#print([np.sum(x) for x in hbs])\n",
    "    rho=[]\n",
    "    for x in range(len(lst)):\n",
    "        f=[np.sum(hbs_nac_nwb[x])/np.sum(nac_nwb), np.sum(hbs_not_nac_nwb[x])/np.sum(not_nac_nwb), np.sum(hbs_not_nwb[x])/np.sum(not_nwb)]\n",
    "        f=[x+foffset for x in f]        \n",
    "        #f=[np.sum(hbs_nac[x])/np.sum(nac), np.sum(hbs_not_nac_nwb[x])/np.sum(not_nac_nwb), np.sum(hbs_not_nwb[x])/np.sum(not_nwb)]\n",
    "        rho.append(f)    \n",
    "        #print(lst[x],f)\n",
    "    \n",
    "    rho=np.array(rho) \n",
    "\n",
    "    #This is the order of states 1-12 in the NAC paper\n",
    "    hb_order=np.array([0, 2, 1, 3, 8, 10, 9, 11, 4, 6, 5, 7])\n",
    "    #print(rho[hb_order,:])\n",
    "    rho_mat=rho[hb_order,:]\n",
    "    rho_mat=np.flipud(np.transpose(rho_mat))\n",
    "    #print(np.sum(rho_mat,axis=0))\n",
    "    G=-kBT*np.log(rho_mat)\n",
    "    #print(G)\n",
    "    #G=np.flipud(np.transpose(G))\n",
    "\n",
    "    if i==0:\n",
    "        Gall=G\n",
    "        rho_all=rho_mat\n",
    "    else:\n",
    "        Gall=np.dstack((Gall,G))\n",
    "        rho_all=np.dstack((rho_all,rho_mat))\n",
    "\n",
    "#Test of the cbar axis - which was successful below\n",
    "#Gall[:,:,8]=3*np.random.rand(3,12)        "
   ]
  },
  {
   "cell_type": "markdown",
   "metadata": {},
   "source": [
    "#### Plot Hydrogen-bond analysis matrix"
   ]
  },
  {
   "cell_type": "code",
   "execution_count": null,
   "metadata": {},
   "outputs": [],
   "source": [
    "#fig,ax=plt.subplots()\n",
    "\n",
    "junction_list=['MA-CA','CA-SP1','SP1-NC','NC-SP2','SP2-p6','TFR-PR','PR-RT','RT-RH','RH-IN']\n",
    "index=[x for x in range(12)]\n",
    "xlim=[index[0]-0.5,index[-1]+0.5]\n",
    "ylim=[-0.5,2.5]\n",
    "\n",
    "fig, axes = plt.subplots(3, 3, sharex=False,sharey=True,figsize=(15,6))\n",
    "fig.subplots_adjust(hspace=0.05, wspace=0.05)\n",
    "\n",
    "\n",
    "\n",
    "for i in range(3):\n",
    "    for j in range(3):\n",
    "        sys=3*i + j\n",
    "        \n",
    "        hbmap=axes[i,j].imshow(Gall[:,:,sys],interpolation=None, cmap='inferno', vmin=0, vmax=6)\n",
    "\n",
    "\n",
    "        axes[i, j].set_xticks([x for x in index])\n",
    "        axes[i, j].set_xticklabels([x+1 for x in index])\n",
    "        axes[i, j].set_yticks([0,1,2])\n",
    "        axes[i, j].set_yticklabels(['Unbound','GS','NAC'])\n",
    "        \n",
    "        \n",
    "        \n",
    "        axes[i, j].tick_params(axis='x', labelsize=15)\n",
    "        axes[i, j].tick_params(axis='y', labelsize=15)\n",
    "        \n",
    "        axes[i, j].text(4.0, 3.0, junction_list[sys],fontsize=20)\n",
    "        \n",
    "        axes[i, j].set_xlim(xlim[0],xlim[1])\n",
    "        axes[i, j].set_ylim(ylim[0],ylim[1])\n",
    "        \n",
    "        \n",
    "axes[2,1].set_xlabel(r'H-bond states',fontsize=30)\n",
    "axes[1,0].set_ylabel(r'Conformation',fontsize=30)\n",
    "\n",
    "\n",
    "cbar=fig.colorbar(hbmap, ax=axes[:, :], shrink=0.8)\n",
    "cbar.set_label('G (kcal/mol)', rotation=90,fontsize=30, labelpad=20)\n",
    "cbar.ax.tick_params(labelsize=20)\n",
    "cbar.ax.set_yticklabels([x for x in range(7)])\n",
    "#cbar.set_clim(0.0, 6.0)\n",
    "\n",
    "plt.show()\n",
    "\n",
    "#fig.savefig('figures/hbond_network.eps')"
   ]
  },
  {
   "cell_type": "markdown",
   "metadata": {},
   "source": [
    "## Final  Results Table"
   ]
  },
  {
   "cell_type": "code",
   "execution_count": null,
   "metadata": {},
   "outputs": [],
   "source": [
    "np.set_printoptions(precision=1)\n",
    "\n",
    "dG_NWB=G_all_mean[:,-2]\n",
    "dG_NWB_er=G_all_std[:,-2]\n",
    "\n",
    "dGu=30\n",
    "dGu_N=G_all_mean_apo[:,-1]\n",
    "dGu_N_er=G_all_std_apo[:,-1]\n",
    "dGu_nN=dGu-dGu_N\n",
    "\n",
    "dGu_ave=np.array([[np.mean(dGu_N),np.std(dGu_N)], [np.mean(dGu_nN),np.std(dGu_nN)]])\n",
    "\n",
    "dGc=Gcat\n",
    "dGc_N=G_all_mean[:,-1]\n",
    "dGc_N_er=G_all_std[:,-1]\n",
    "dGc_nN=dGc-dGc_N\n",
    "\n",
    "ddG=dGc-dGu\n",
    "ddG_N=dGc_N-dGu_N\n",
    "ddG_N_er=dGu_N_er+dGc_N_er\n",
    "ddG_nN=dGc_nN-dGu_nN\n",
    "\n",
    "print(dG_NWB)\n",
    "print(dG_NWB_er)\n",
    "\n",
    "print(dGu_N)\n",
    "print(dGu_N_er)\n",
    "print(dGu_nN)\n",
    "\n",
    "print(dGc)\n",
    "print(dGc_N)\n",
    "print(dGc_N_er)\n",
    "print(dGc_nN)\n",
    "\n",
    "print(ddG)\n",
    "print(ddG_N)\n",
    "print(ddG_N_er)\n",
    "print(ddG_nN)\n",
    "\n",
    "\n",
    "print(dGu_ave)\n"
   ]
  }
 ],
 "metadata": {
  "kernelspec": {
   "display_name": "Python 3",
   "language": "python",
   "name": "python3"
  },
  "language_info": {
   "codemirror_mode": {
    "name": "ipython",
    "version": 3
   },
   "file_extension": ".py",
   "mimetype": "text/x-python",
   "name": "python",
   "nbconvert_exporter": "python",
   "pygments_lexer": "ipython3",
   "version": "3.6.9"
  }
 },
 "nbformat": 4,
 "nbformat_minor": 4
}
